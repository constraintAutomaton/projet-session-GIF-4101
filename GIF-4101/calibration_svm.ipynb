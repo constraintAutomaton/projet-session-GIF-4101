{
 "cells": [
  {
   "cell_type": "code",
   "execution_count": 1,
   "metadata": {},
   "outputs": [],
   "source": [
    "import pickle\n",
    "import pandas as pd\n",
    "import os\n",
    "from matplotlib import pyplot\n",
    "from sklearn.svm import SVC\n",
    "import numpy as np\n",
    "from sklearn.preprocessing import minmax_scale\n",
    "from sklearn.model_selection import KFold, train_test_split\n",
    "from scipy.spatial.distance import cdist"
   ]
  },
  {
   "cell_type": "code",
   "execution_count": 2,
   "metadata": {},
   "outputs": [],
   "source": [
    "dataFile = os.path.join(\"Data\",\"data.p\")\n",
    "data = None\n",
    "with open(dataFile, \"rb\") as input_file:\n",
    "    data = pickle.load(input_file)"
   ]
  },
  {
   "cell_type": "code",
   "execution_count": 3,
   "metadata": {},
   "outputs": [
    {
     "name": "stderr",
     "output_type": "stream",
     "text": [
      "/home/bryan/anaconda3/lib/python3.6/site-packages/sklearn/utils/validation.py:475: DataConversionWarning: Data with input dtype object was converted to float64.\n",
      "  warnings.warn(msg, DataConversionWarning)\n"
     ]
    }
   ],
   "source": [
    "columnsResult = [\"Pourcentage vote parti liberal\",\"Pourcentage vote parti npd\",\"Pourcentage vote parti conservateur\"]\n",
    "X = minmax_scale(data.drop(columnsResult, axis=1).values)\n",
    "y = np.argmin(data[columnsResult].values,axis=1)\n",
    "test_size = round(y.size*0.66)\n",
    "X_train, X_test, y_train, y_test = train_test_split(X, y, test_size=test_size)\n"
   ]
  },
  {
   "cell_type": "code",
   "execution_count": 4,
   "metadata": {},
   "outputs": [],
   "source": [
    "distance = np.array(cdist(X_train,X_train,\"euclidean\"))\n",
    "distance_non_zero = distance[distance!=0]\n",
    "sigma_min = np.amin(distance_non_zero)\n",
    "arraySigma = [i*sigma_min for i in range(1,65,5)]\n",
    "arrayC = [1*10**i for i in range(-5,5,1)]\n",
    "N = 2\n"
   ]
  },
  {
   "cell_type": "code",
   "execution_count": 5,
   "metadata": {},
   "outputs": [],
   "source": [
    "scores_SVMLinear = {}\n",
    "arrayKernel = [\"linear\"]\n",
    "for C in arrayC:\n",
    "    scores_SVMLinear[C] = []\n",
    "    for sigma in arraySigma:\n",
    "        for kernel in arrayKernel:\n",
    "            Avs=0\n",
    "            RPK = KFold(n_splits=N)\n",
    "            for train,test in RPK.split(y_train):\n",
    "                Data_train,target_train = X_train[train,:],y_train[train]\n",
    "                Data_test,target_test = X_train[test,:],y_train[test]\n",
    "                clf = SVC(C=C,kernel=kernel,gamma=(2*sigma**2)**-1)\n",
    "                clf.fit(Data_train,target_train)\n",
    "                Avs+=clf.score(Data_test,target_test)\n",
    "            scores_SVMLinear[C].append(Avs/N)"
   ]
  },
  {
   "cell_type": "code",
   "execution_count": null,
   "metadata": {},
   "outputs": [],
   "source": []
  },
  {
   "cell_type": "code",
   "execution_count": 6,
   "metadata": {},
   "outputs": [
    {
     "data": {
      "image/png": "[encoded data removed]",
      "text/plain": [
       "<Figure size 432x288 with 1 Axes>"
      ]
     },
     "metadata": {},
     "output_type": "display_data"
    }
   ],
   "source": [
    "for key,score in scores_SVMLinear.items():\n",
    "    pyplot.plot(np.array(arraySigma),np.array(score),label= \"C:{}\".format(key))\n",
    "pyplot.legend()\n",
    "pyplot.show()"
   ]
  },
  {
   "cell_type": "code",
   "execution_count": 7,
   "metadata": {},
   "outputs": [],
   "source": [
    "outputFile = os.path.join(\"Data\",\"scores_SVMLinear.p\")\n",
    "with open(outputFile, \"wb\") as handle:\n",
    "    data = pickle.dump(scores_SVMLinear, handle, protocol=pickle.HIGHEST_PROTOCOL)"
   ]
  },
  {
   "cell_type": "markdown",
   "metadata": {},
   "source": [
    "scores_SVMPoly = {}\n",
    "N = 2\n",
    "arrayKernel = [\"poly\"]\n",
    "arraySigma_ = [i*sigma_min for i in range(1,65,30)]\n",
    "arrayC_ = [1*10**i for i in range(-5,5,4)]\n",
    "for C in arrayC_:\n",
    "    scores_SVMPoly[C] = []\n",
    "    for sigma in arraySigma_:\n",
    "        for kernel in arrayKernel:\n",
    "            Avs=0\n",
    "            RPK = KFold(n_splits=N)\n",
    "            for train,test in RPK.split(y_train):\n",
    "                Data_train,target_train = X_train[train,:],y_train[train]\n",
    "                Data_test,target_test = X_train[test,:],y_train[test]\n",
    "                clf = SVC(C=C,kernel=kernel,gamma=(2*sigma**2)**-1,degree=2)\n",
    "                clf.fit(Data_train,target_train)\n",
    "                Avs+=clf.score(Data_test,target_test)\n",
    "            scores_SVMPoly[C].append(Avs/N)"
   ]
  },
  {
   "cell_type": "markdown",
   "metadata": {},
   "source": [
    "for key,score in scores_SVMPoly.items():\n",
    "    pyplot.plot(np.array(arraySigma),np.array(score),label= \"C:{}\".format(key))\n",
    "pyplot.legend()\n",
    "pyplot.show()"
   ]
  },
  {
   "cell_type": "markdown",
   "metadata": {},
   "source": [
    "outputFile = os.path.join(\"Data\",\"scores_SVMPoly.p\")\n",
    "with open(outputFile, \"wb\") as handle:\n",
    "    data = pickle.dump(scores_SVMPoly, handle, protocol=pickle.HIGHEST_PROTOCOL)"
   ]
  },
  {
   "cell_type": "code",
   "execution_count": 8,
   "metadata": {},
   "outputs": [],
   "source": [
    "scores_SVMRbf = {}\n",
    "N = 2\n",
    "arrayKernel = [\"rbf\"]\n",
    "for C in arrayC:\n",
    "    scores_SVMRbf[C] = []\n",
    "    for sigma in arraySigma:\n",
    "        for kernel in arrayKernel:\n",
    "            Avs=0\n",
    "            RPK = KFold(n_splits=N)\n",
    "            for train,test in RPK.split(y_train):\n",
    "                Data_train,target_train = X_train[train,:],y_train[train]\n",
    "                Data_test,target_test = X_train[test,:],y_train[test]\n",
    "                clf = SVC(C=C,kernel=kernel,gamma=(2*sigma**2)**-1)\n",
    "                clf.fit(Data_train,target_train)\n",
    "                Avs+=clf.score(Data_test,target_test)\n",
    "            scores_SVMRbf[C].append(Avs/N)"
   ]
  },
  {
   "cell_type": "code",
   "execution_count": 9,
   "metadata": {},
   "outputs": [
    {
     "data": {
      "image/png": "[encoded data removed]",
      "text/plain": [
       "<Figure size 432x288 with 1 Axes>"
      ]
     },
     "metadata": {},
     "output_type": "display_data"
    }
   ],
   "source": [
    "for key,score in scores_SVMRbf.items():\n",
    "    pyplot.plot(np.array(arraySigma),np.array(score),label= \"C:{}\".format(key))\n",
    "pyplot.legend()\n",
    "pyplot.show()"
   ]
  },
  {
   "cell_type": "code",
   "execution_count": 10,
   "metadata": {},
   "outputs": [],
   "source": [
    "outputFile = os.path.join(\"Data\",\"scores_SVMRbf.p\")\n",
    "with open(outputFile, \"wb\") as handle:\n",
    "    data = pickle.dump(scores_SVMRbf, handle, protocol=pickle.HIGHEST_PROTOCOL)"
   ]
  },
  {
   "cell_type": "code",
   "execution_count": 11,
   "metadata": {},
   "outputs": [],
   "source": [
    "scores_SVMSigmoid = {}\n",
    "N = 2\n",
    "arrayKernel = [\"sigmoid\"]\n",
    "for C in arrayC:\n",
    "    scores_SVMSigmoid[C] = []\n",
    "    for sigma in arraySigma:\n",
    "        for kernel in arrayKernel:\n",
    "            Avs=0\n",
    "            RPK = KFold(n_splits=N)\n",
    "            for train,test in RPK.split(y_train):\n",
    "                Data_train,target_train = X_train[train,:],y_train[train]\n",
    "                Data_test,target_test = X_train[test,:],y_train[test]\n",
    "                clf = SVC(C=C,kernel=kernel,gamma=(2*sigma**2)**-1)\n",
    "                clf.fit(Data_train,target_train)\n",
    "                Avs+=clf.score(Data_test,target_test)\n",
    "            scores_SVMSigmoid[C].append(Avs/N)"
   ]
  },
  {
   "cell_type": "code",
   "execution_count": 12,
   "metadata": {},
   "outputs": [
    {
     "data": {
      "image/png": "[encoded data removed]",
      "text/plain": [
       "<Figure size 432x288 with 1 Axes>"
      ]
     },
     "metadata": {},
     "output_type": "display_data"
    }
   ],
   "source": [
    "for key,score in scores_SVMSigmoid.items():\n",
    "    pyplot.plot(np.array(arraySigma),np.array(score),label= \"C:{}\".format(key))\n",
    "pyplot.legend()\n",
    "pyplot.show()"
   ]
  },
  {
   "cell_type": "code",
   "execution_count": 13,
   "metadata": {},
   "outputs": [],
   "source": [
    "outputFile = os.path.join(\"Data\",\"scores_SVMSigmoid.p\")\n",
    "with open(outputFile, \"wb\") as handle:\n",
    "    data = pickle.dump(scores_SVMSigmoid, handle, protocol=pickle.HIGHEST_PROTOCOL)"
   ]
  },
  {
   "cell_type": "code",
   "execution_count": 18,
   "metadata": {},
   "outputs": [
    {
     "data": {
      "text/plain": [
       "[0.6848159725155585,\n",
       " 0.6848159725155585,\n",
       " 0.6848159725155585,\n",
       " 0.6848159725155585,\n",
       " 0.6848159725155585,\n",
       " 0.6848159725155585,\n",
       " 0.6848159725155585,\n",
       " 0.6848159725155585,\n",
       " 0.6848159725155585,\n",
       " 0.6848159725155585,\n",
       " 0.6848159725155585,\n",
       " 0.6848159725155585,\n",
       " 0.6848159725155585]"
      ]
     },
     "execution_count": 18,
     "metadata": {},
     "output_type": "execute_result"
    }
   ],
   "source": [
    "scores_SVMLinear[10000]"
   ]
  },
  {
   "cell_type": "code",
   "execution_count": null,
   "metadata": {},
   "outputs": [],
   "source": []
  }
 ],
 "metadata": {
  "kernelspec": {
   "display_name": "Python 3",
   "language": "python",
   "name": "python3"
  },
  "language_info": {
   "codemirror_mode": {
    "name": "ipython",
    "version": 3
   },
   "file_extension": ".py",
   "mimetype": "text/x-python",
   "name": "python",
   "nbconvert_exporter": "python",
   "pygments_lexer": "ipython3",
   "version": "3.6.6"
  }
 },
 "nbformat": 4,
 "nbformat_minor": 2
}
